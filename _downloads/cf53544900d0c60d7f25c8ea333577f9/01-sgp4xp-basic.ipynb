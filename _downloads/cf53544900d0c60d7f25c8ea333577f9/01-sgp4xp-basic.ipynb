{
  "cells": [
    {
      "cell_type": "markdown",
      "metadata": {},
      "source": [
        "\n# SGP4-XP Basic Usage\n"
      ]
    },
    {
      "cell_type": "code",
      "execution_count": null,
      "metadata": {
        "collapsed": false
      },
      "outputs": [],
      "source": [
        "from pysaal.elements import TLE\nfrom pysaal.time import Epoch"
      ]
    },
    {
      "cell_type": "markdown",
      "metadata": {},
      "source": [
        "Let's initialize a XP TLE object\n\n"
      ]
    },
    {
      "cell_type": "code",
      "execution_count": null,
      "metadata": {
        "collapsed": false
      },
      "outputs": [],
      "source": [
        "l1 = \"1 61429U          24362.90619720 +.00000000  00000 0  55480 0 4 0001\"\nl2 = \"2 61429  88.9747 334.1365 0159713  22.5177  31.9343 14.3545506800001\"\n\ntle = TLE.from_lines(l1, l2)"
      ]
    },
    {
      "cell_type": "markdown",
      "metadata": {},
      "source": [
        "We can confirm that this is one of the new XP TLEs:\n\n"
      ]
    },
    {
      "cell_type": "code",
      "execution_count": null,
      "metadata": {
        "collapsed": false
      },
      "outputs": [],
      "source": [
        "print(tle.ephemeris_type)"
      ]
    },
    {
      "cell_type": "markdown",
      "metadata": {},
      "source": [
        "Let's now initialize an epoch and propagate the TLE to it\n\n"
      ]
    },
    {
      "cell_type": "code",
      "execution_count": null,
      "metadata": {
        "collapsed": false
      },
      "outputs": [],
      "source": [
        "epoch = Epoch.from_components(2024, 10, 10, 10, 10, 10.0)\n\ntle_prop = tle.get_state_at_epoch(epoch)\n\nprint(f\"TLE position: {tle_prop.cartesian_elements.position} [km]\")\nprint(f\"TLE velocity: {tle_prop.cartesian_elements.velocity} [km/s]\")"
      ]
    }
  ],
  "metadata": {
    "kernelspec": {
      "display_name": "Python 3",
      "language": "python",
      "name": "python3"
    },
    "language_info": {
      "codemirror_mode": {
        "name": "ipython",
        "version": 3
      },
      "file_extension": ".py",
      "mimetype": "text/x-python",
      "name": "python",
      "nbconvert_exporter": "python",
      "pygments_lexer": "ipython3",
      "version": "3.13.1"
    }
  },
  "nbformat": 4,
  "nbformat_minor": 0
}